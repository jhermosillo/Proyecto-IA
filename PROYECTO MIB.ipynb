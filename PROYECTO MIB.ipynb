{
 "cells": [
  {
   "cell_type": "markdown",
   "id": "571ce1da",
   "metadata": {},
   "source": [
    "<a href=\"https://colab.research.google.com/github/jhermosillo/Proyecto-IA/blob/main/PROYECTO%20MIB.ipynb\" target=\"_parent\"><img src=\"https://colab.research.google.com/assets/colab-badge.svg\" alt=\"Open In Colab\"/></a>"
   ]
  },
  {
   "cell_type": "markdown",
   "id": "9ef6cd2f-f0cc-4387-8f31-6c6dd8861055",
   "metadata": {
    "tags": []
   },
   "source": [
    "<h1 style=\"font-size:50px;\" align=\"center\">Inferencia Bayesiana usando el Motor de Inferencia MIB</h1>"
   ]
  },
  {
   "cell_type": "markdown",
   "id": "38b6f84d-9074-45d0-9312-04373d05222e",
   "metadata": {},
   "source": [
    "<h1 style=\"font-size:30px;\" align=\"center\">Quien escribió este cuento</h1>"
   ]
  },
  {
   "cell_type": "code",
   "execution_count": 1,
   "id": "823f3853-36f6-4a97-997d-3f81eea64b0c",
   "metadata": {},
   "outputs": [
    {
     "name": "stderr",
     "output_type": "stream",
     "text": [
      "[nltk_data] Downloading package punkt to\n",
      "[nltk_data]     C:\\Users\\user\\AppData\\Roaming\\nltk_data...\n",
      "[nltk_data]   Package punkt is already up-to-date!\n",
      "[nltk_data] Downloading package stopwords to\n",
      "[nltk_data]     C:\\Users\\user\\AppData\\Roaming\\nltk_data...\n",
      "[nltk_data]   Package stopwords is already up-to-date!\n"
     ]
    }
   ],
   "source": [
    "import numpy as np\n",
    "import numpy.ma as ma\n",
    "import pandas as pd\n",
    "import glob\n",
    "import nltk\n",
    "\n",
    "nltk.download('punkt')\n",
    "from nltk.tokenize import word_tokenize\n",
    "\n",
    "\n",
    "from collections import Counter, OrderedDict  #regresa un diccionario con conteos\n",
    "\n",
    "import mib as mb\n",
    "import tpproc as tp"
   ]
  },
  {
   "cell_type": "code",
   "execution_count": null,
   "id": "153e0f9b",
   "metadata": {},
   "outputs": [],
   "source": [
    "# Cargar un archivo de excel a colab desde github\n",
    "!apt-get install subversion\n",
    "!svn checkout \"https://github.com/jhermosillo//Proyecto-IA/trunk/Train/\"\n",
    "!svn checkout \"https://github.com/jhermosillo//Proyecto-IA/trunk/Test/\""
   ]
  },
  {
   "cell_type": "markdown",
   "id": "3ed8b06d-cd72-4bea-bc8b-7aa3f70c47e6",
   "metadata": {},
   "source": [
    "# Proyecto"
   ]
  },
  {
   "cell_type": "code",
   "execution_count": 2,
   "id": "81aba236-59d5-48d7-9679-83d1fcd1c1d0",
   "metadata": {},
   "outputs": [
    {
     "name": "stdout",
     "output_type": "stream",
     "text": [
      "leyendo...\n",
      "tamaño del contenido de archivos cargados:             1 KB\n"
     ]
    },
    {
     "name": "stderr",
     "output_type": "stream",
     "text": [
      "C:\\Users\\user\\Mi unidad\\Clases\\IA\\BAYESIAN PROGRAMMING\\Python_code\\Proyecto-IA\\Proyecto-IA\\tpproc.py:84: FutureWarning: The default value of regex will change from True to False in a future version. In addition, single character regular expressions will *not* be treated as literal strings when regex=True.\n",
      "  .str.replace('(','')\\\n",
      "C:\\Users\\user\\Mi unidad\\Clases\\IA\\BAYESIAN PROGRAMMING\\Python_code\\Proyecto-IA\\Proyecto-IA\\tpproc.py:85: FutureWarning: The default value of regex will change from True to False in a future version. In addition, single character regular expressions will *not* be treated as literal strings when regex=True.\n",
      "  .str.replace(')','')\\\n"
     ]
    },
    {
     "data": {
      "text/html": [
       "<div>\n",
       "<style scoped>\n",
       "    .dataframe tbody tr th:only-of-type {\n",
       "        vertical-align: middle;\n",
       "    }\n",
       "\n",
       "    .dataframe tbody tr th {\n",
       "        vertical-align: top;\n",
       "    }\n",
       "\n",
       "    .dataframe thead th {\n",
       "        text-align: right;\n",
       "    }\n",
       "</style>\n",
       "<table border=\"1\" class=\"dataframe\">\n",
       "  <thead>\n",
       "    <tr style=\"text-align: right;\">\n",
       "      <th></th>\n",
       "      <th>titulo</th>\n",
       "      <th>tipo</th>\n",
       "      <th>autor</th>\n",
       "      <th>texto</th>\n",
       "    </tr>\n",
       "  </thead>\n",
       "  <tbody>\n",
       "    <tr>\n",
       "      <th>0</th>\n",
       "      <td>catástrofes</td>\n",
       "      <td>minicuento</td>\n",
       "      <td>alfonso reyes</td>\n",
       "      <td>pasa hablado cierta catástrofe cósmica amenaza...</td>\n",
       "    </tr>\n",
       "    <tr>\n",
       "      <th>1</th>\n",
       "      <td>del perfecto gobernante</td>\n",
       "      <td>minicuento</td>\n",
       "      <td>alfonso reyes</td>\n",
       "      <td>entiende perfecto gobernante perfecto lleno pe...</td>\n",
       "    </tr>\n",
       "    <tr>\n",
       "      <th>2</th>\n",
       "      <td>ley profunda</td>\n",
       "      <td>minicuento</td>\n",
       "      <td>alfonso reyes</td>\n",
       "      <td>trata libertarnos simplemente enseñarnos descu...</td>\n",
       "    </tr>\n",
       "    <tr>\n",
       "      <th>3</th>\n",
       "      <td>los alivios</td>\n",
       "      <td>minicuento</td>\n",
       "      <td>alfonso reyes</td>\n",
       "      <td>nombres usan castellano restroom impropios bañ...</td>\n",
       "    </tr>\n",
       "    <tr>\n",
       "      <th>4</th>\n",
       "      <td>el buen rey león</td>\n",
       "      <td>fábula</td>\n",
       "      <td>esopo</td>\n",
       "      <td>león enojoso cruel violento sino tratable just...</td>\n",
       "    </tr>\n",
       "  </tbody>\n",
       "</table>\n",
       "</div>"
      ],
      "text/plain": [
       "                    titulo        tipo          autor  \\\n",
       "0              catástrofes  minicuento  alfonso reyes   \n",
       "1  del perfecto gobernante  minicuento  alfonso reyes   \n",
       "2             ley profunda  minicuento  alfonso reyes   \n",
       "3              los alivios  minicuento  alfonso reyes   \n",
       "4         el buen rey león      fábula          esopo   \n",
       "\n",
       "                                               texto  \n",
       "0  pasa hablado cierta catástrofe cósmica amenaza...  \n",
       "1  entiende perfecto gobernante perfecto lleno pe...  \n",
       "2  trata libertarnos simplemente enseñarnos descu...  \n",
       "3  nombres usan castellano restroom impropios bañ...  \n",
       "4  león enojoso cruel violento sino tratable just...  "
      ]
     },
     "execution_count": 2,
     "metadata": {},
     "output_type": "execute_result"
    }
   ],
   "source": [
    "archivos = glob.glob('./Train/*/*')\n",
    "archivos,nombres = tp.carga_cuentos(archivos)\n",
    "df_train = tp.lee_cuentos(archivos)\n",
    "df_train.head()"
   ]
  },
  {
   "cell_type": "code",
   "execution_count": 3,
   "id": "7e70f408-030d-4a6e-8744-cc4743fcf255",
   "metadata": {},
   "outputs": [
    {
     "name": "stdout",
     "output_type": "stream",
     "text": [
      "4763\n"
     ]
    }
   ],
   "source": [
    "with open(\"./voc_pry.txt\",encoding='utf-8') as f:\n",
    "    vocabulario = f.read()\n",
    "vocabulario=vocabulario.split()\n",
    "print(len(vocabulario))"
   ]
  },
  {
   "cell_type": "code",
   "execution_count": 4,
   "id": "049c4c72-f1c6-46da-9f69-602f475a8b48",
   "metadata": {},
   "outputs": [
    {
     "name": "stdout",
     "output_type": "stream",
     "text": [
      "['vencedor', 'metió', 'apelar', 'gratitud', 'empieza', 'cirujano', 'pellizcó', 'lienzo', 'chorizo', 'mismos']\n"
     ]
    }
   ],
   "source": [
    "print(vocabulario[:10])"
   ]
  },
  {
   "cell_type": "code",
   "execution_count": 5,
   "id": "6d75a0cd-905e-4800-b04b-8e0a793823ba",
   "metadata": {},
   "outputs": [
    {
     "name": "stdout",
     "output_type": "stream",
     "text": [
      "leyendo...\n",
      "tamaño del contenido de archivos cargados:             0 KB\n"
     ]
    },
    {
     "name": "stderr",
     "output_type": "stream",
     "text": [
      "C:\\Users\\user\\Mi unidad\\Clases\\IA\\BAYESIAN PROGRAMMING\\Python_code\\Proyecto-IA\\Proyecto-IA\\tpproc.py:84: FutureWarning: The default value of regex will change from True to False in a future version. In addition, single character regular expressions will *not* be treated as literal strings when regex=True.\n",
      "  .str.replace('(','')\\\n",
      "C:\\Users\\user\\Mi unidad\\Clases\\IA\\BAYESIAN PROGRAMMING\\Python_code\\Proyecto-IA\\Proyecto-IA\\tpproc.py:85: FutureWarning: The default value of regex will change from True to False in a future version. In addition, single character regular expressions will *not* be treated as literal strings when regex=True.\n",
      "  .str.replace(')','')\\\n"
     ]
    },
    {
     "data": {
      "text/html": [
       "<div>\n",
       "<style scoped>\n",
       "    .dataframe tbody tr th:only-of-type {\n",
       "        vertical-align: middle;\n",
       "    }\n",
       "\n",
       "    .dataframe tbody tr th {\n",
       "        vertical-align: top;\n",
       "    }\n",
       "\n",
       "    .dataframe thead th {\n",
       "        text-align: right;\n",
       "    }\n",
       "</style>\n",
       "<table border=\"1\" class=\"dataframe\">\n",
       "  <thead>\n",
       "    <tr style=\"text-align: right;\">\n",
       "      <th></th>\n",
       "      <th>titulo</th>\n",
       "      <th>texto</th>\n",
       "    </tr>\n",
       "  </thead>\n",
       "  <tbody>\n",
       "    <tr>\n",
       "      <th>0</th>\n",
       "      <td>divina fragilidad</td>\n",
       "      <td>dios creó universo sentía solo eternidad empez...</td>\n",
       "    </tr>\n",
       "    <tr>\n",
       "      <th>1</th>\n",
       "      <td>dos seres iguales</td>\n",
       "      <td>cierto día profeta sharía encontró niña jardín...</td>\n",
       "    </tr>\n",
       "    <tr>\n",
       "      <th>2</th>\n",
       "      <td>el caballo y el lobo</td>\n",
       "      <td>estación blandos céfiros hacen verdear campos ...</td>\n",
       "    </tr>\n",
       "    <tr>\n",
       "      <th>3</th>\n",
       "      <td>el cetro</td>\n",
       "      <td>dijo rey esposa señora verdaderamente reina de...</td>\n",
       "    </tr>\n",
       "    <tr>\n",
       "      <th>4</th>\n",
       "      <td>el impostor</td>\n",
       "      <td>cansada esperar hombre llegó puntual sonreírme...</td>\n",
       "    </tr>\n",
       "  </tbody>\n",
       "</table>\n",
       "</div>"
      ],
      "text/plain": [
       "                 titulo                                              texto\n",
       "0     divina fragilidad  dios creó universo sentía solo eternidad empez...\n",
       "1     dos seres iguales  cierto día profeta sharía encontró niña jardín...\n",
       "2  el caballo y el lobo  estación blandos céfiros hacen verdear campos ...\n",
       "3              el cetro  dijo rey esposa señora verdaderamente reina de...\n",
       "4           el impostor  cansada esperar hombre llegó puntual sonreírme..."
      ]
     },
     "execution_count": 5,
     "metadata": {},
     "output_type": "execute_result"
    }
   ],
   "source": [
    "archivos = glob.glob('./Test/*')\n",
    "archivos,nombres = tp.carga_cuentos(archivos)\n",
    "df_test = tp.lee_cuentos(archivos,test=True)\n",
    "df_test.head()"
   ]
  },
  {
   "cell_type": "code",
   "execution_count": 6,
   "id": "6f26dd98-db4c-4889-b06c-5b4c54de74b2",
   "metadata": {},
   "outputs": [
    {
     "data": {
      "text/html": [
       "<div>\n",
       "<style scoped>\n",
       "    .dataframe tbody tr th:only-of-type {\n",
       "        vertical-align: middle;\n",
       "    }\n",
       "\n",
       "    .dataframe tbody tr th {\n",
       "        vertical-align: top;\n",
       "    }\n",
       "\n",
       "    .dataframe thead th {\n",
       "        text-align: right;\n",
       "    }\n",
       "</style>\n",
       "<table border=\"1\" class=\"dataframe\">\n",
       "  <thead>\n",
       "    <tr style=\"text-align: right;\">\n",
       "      <th></th>\n",
       "      <th>titulo</th>\n",
       "      <th>texto</th>\n",
       "      <th>tokens</th>\n",
       "    </tr>\n",
       "  </thead>\n",
       "  <tbody>\n",
       "    <tr>\n",
       "      <th>0</th>\n",
       "      <td>divina fragilidad</td>\n",
       "      <td>dios creó universo sentía solo eternidad empez...</td>\n",
       "      <td>[dios, creó, universo, sentía, solo, eternidad...</td>\n",
       "    </tr>\n",
       "    <tr>\n",
       "      <th>1</th>\n",
       "      <td>dos seres iguales</td>\n",
       "      <td>cierto día profeta sharía encontró niña jardín...</td>\n",
       "      <td>[cierto, día, profeta, sharía, encontró, niña,...</td>\n",
       "    </tr>\n",
       "    <tr>\n",
       "      <th>2</th>\n",
       "      <td>el caballo y el lobo</td>\n",
       "      <td>estación blandos céfiros hacen verdear campos ...</td>\n",
       "      <td>[estación, blandos, céfiros, hacen, verdear, c...</td>\n",
       "    </tr>\n",
       "    <tr>\n",
       "      <th>3</th>\n",
       "      <td>el cetro</td>\n",
       "      <td>dijo rey esposa señora verdaderamente reina de...</td>\n",
       "      <td>[dijo, rey, esposa, señora, verdaderamente, re...</td>\n",
       "    </tr>\n",
       "    <tr>\n",
       "      <th>4</th>\n",
       "      <td>el impostor</td>\n",
       "      <td>cansada esperar hombre llegó puntual sonreírme...</td>\n",
       "      <td>[cansada, esperar, hombre, llegó, puntual, son...</td>\n",
       "    </tr>\n",
       "  </tbody>\n",
       "</table>\n",
       "</div>"
      ],
      "text/plain": [
       "                 titulo                                              texto  \\\n",
       "0     divina fragilidad  dios creó universo sentía solo eternidad empez...   \n",
       "1     dos seres iguales  cierto día profeta sharía encontró niña jardín...   \n",
       "2  el caballo y el lobo  estación blandos céfiros hacen verdear campos ...   \n",
       "3              el cetro  dijo rey esposa señora verdaderamente reina de...   \n",
       "4           el impostor  cansada esperar hombre llegó puntual sonreírme...   \n",
       "\n",
       "                                              tokens  \n",
       "0  [dios, creó, universo, sentía, solo, eternidad...  \n",
       "1  [cierto, día, profeta, sharía, encontró, niña,...  \n",
       "2  [estación, blandos, céfiros, hacen, verdear, c...  \n",
       "3  [dijo, rey, esposa, señora, verdaderamente, re...  \n",
       "4  [cansada, esperar, hombre, llegó, puntual, son...  "
      ]
     },
     "execution_count": 6,
     "metadata": {},
     "output_type": "execute_result"
    }
   ],
   "source": [
    "df_test['tokens'] = df_test.apply(lambda row: nltk.word_tokenize(row['texto']), axis=1)\n",
    "df_test.head()"
   ]
  },
  {
   "cell_type": "code",
   "execution_count": 7,
   "id": "96223ab4-36aa-462a-ae38-a8ed2ebd968c",
   "metadata": {},
   "outputs": [
    {
     "name": "stdout",
     "output_type": "stream",
     "text": [
      "['dios', 'creó']\n",
      "['cierto', 'día']\n",
      "['estación', 'blandos']\n",
      "['dijo', 'rey']\n",
      "['cansada', 'esperar']\n",
      "['yendo', 'león']\n",
      "['ranas', 'decidieron']\n",
      "['cierto', 'día']\n",
      "['noche', 'cerrada']\n",
      "['ibas', 'contar']\n",
      "['veces', 'vuelven']\n",
      "['muerte', 'cansada']\n",
      "['camión', 'detuvo']\n",
      "['cierto', 'día']\n",
      "['tres', 'punto']\n",
      "['narciso', 'hoy']\n",
      "['cierto', 'día']\n",
      "['pesar', 'torpor']\n",
      "['mary', 'dos']\n"
     ]
    }
   ],
   "source": [
    "C=df_test.tokens.values\n",
    "for c in C:\n",
    "    print(c[:2])"
   ]
  },
  {
   "cell_type": "markdown",
   "id": "c1bfe472-5379-4426-b13b-fd67f3bb4bc0",
   "metadata": {},
   "source": [
    "## Preguntas"
   ]
  },
  {
   "cell_type": "markdown",
   "id": "a1788b36-8748-4455-ae05-e5c8310a3072",
   "metadata": {},
   "source": [
    "1. ¿Quién escribió \"El caballo y el Lobo\"?\n",
    "2. \"La escopeta\" ¿es una fábula?\n",
    "3. ¿Qué probabilidad hay de que \"La muerte\" haya sido escrita por José Saramago\n",
    "4. ¿Pudo \"La marcha del caracol\" haber sido escrita por García Márquez y Fuentes en co-autoría?\n",
    "5. Dado que \"El águila de ala cortada y la zorra\" es una fábula, ¿qué probabilidad hay de que haya sido escrita por Jalil Gibrán?\n",
    "6. ¿Qué proporción hay de minicuentos?\n",
    "7. ¿Qué cuentos son de Carlos Onetti?\n",
    "8. ¿Quién dijo: \"Desde que abrí los ojos me di cuenta que mi sitio no estaba aquí, donde yo estoy, sino en donde no estoy ni he estado nunca. En alguna parte hay un lugar vacío y ese vacío se llenará de mí y yo me asentaré en ese hueco que insensiblemente rebosará de mí, pleno de mí hasta volverse fuente o surtidor. Y mi vacío, el vacío de mí que soy ahora, se llenará de sí, pleno de sí, pleno de ser hasta los bordes.\"?\n",
    "9. ¿Quién es el autor con más cuentos?\n",
    "10. ¿Qué probablidad hay de quien haya escrito \"Retiniblastoma\" haya también escrito \"El sol y las ranas\"?"
   ]
  },
  {
   "cell_type": "markdown",
   "id": "38c8adef",
   "metadata": {},
   "source": [
    "## Datos"
   ]
  },
  {
   "cell_type": "code",
   "execution_count": 8,
   "id": "070e8b7a",
   "metadata": {},
   "outputs": [
    {
     "data": {
      "text/html": [
       "<div>\n",
       "<style scoped>\n",
       "    .dataframe tbody tr th:only-of-type {\n",
       "        vertical-align: middle;\n",
       "    }\n",
       "\n",
       "    .dataframe tbody tr th {\n",
       "        vertical-align: top;\n",
       "    }\n",
       "\n",
       "    .dataframe thead th {\n",
       "        text-align: right;\n",
       "    }\n",
       "</style>\n",
       "<table border=\"1\" class=\"dataframe\">\n",
       "  <thead>\n",
       "    <tr style=\"text-align: right;\">\n",
       "      <th></th>\n",
       "      <th>titulo</th>\n",
       "      <th>tipo</th>\n",
       "      <th>autor</th>\n",
       "      <th>texto</th>\n",
       "      <th>Total</th>\n",
       "    </tr>\n",
       "  </thead>\n",
       "  <tbody>\n",
       "    <tr>\n",
       "      <th>0</th>\n",
       "      <td>catástrofes</td>\n",
       "      <td>minicuento</td>\n",
       "      <td>alfonso reyes</td>\n",
       "      <td>pasa hablado cierta catástrofe cósmica amenaza...</td>\n",
       "      <td>68</td>\n",
       "    </tr>\n",
       "    <tr>\n",
       "      <th>1</th>\n",
       "      <td>del perfecto gobernante</td>\n",
       "      <td>minicuento</td>\n",
       "      <td>alfonso reyes</td>\n",
       "      <td>entiende perfecto gobernante perfecto lleno pe...</td>\n",
       "      <td>120</td>\n",
       "    </tr>\n",
       "    <tr>\n",
       "      <th>2</th>\n",
       "      <td>ley profunda</td>\n",
       "      <td>minicuento</td>\n",
       "      <td>alfonso reyes</td>\n",
       "      <td>trata libertarnos simplemente enseñarnos descu...</td>\n",
       "      <td>35</td>\n",
       "    </tr>\n",
       "    <tr>\n",
       "      <th>3</th>\n",
       "      <td>los alivios</td>\n",
       "      <td>minicuento</td>\n",
       "      <td>alfonso reyes</td>\n",
       "      <td>nombres usan castellano restroom impropios bañ...</td>\n",
       "      <td>18</td>\n",
       "    </tr>\n",
       "    <tr>\n",
       "      <th>4</th>\n",
       "      <td>el buen rey león</td>\n",
       "      <td>fábula</td>\n",
       "      <td>esopo</td>\n",
       "      <td>león enojoso cruel violento sino tratable just...</td>\n",
       "      <td>58</td>\n",
       "    </tr>\n",
       "  </tbody>\n",
       "</table>\n",
       "</div>"
      ],
      "text/plain": [
       "                    titulo        tipo          autor  \\\n",
       "0              catástrofes  minicuento  alfonso reyes   \n",
       "1  del perfecto gobernante  minicuento  alfonso reyes   \n",
       "2             ley profunda  minicuento  alfonso reyes   \n",
       "3              los alivios  minicuento  alfonso reyes   \n",
       "4         el buen rey león      fábula          esopo   \n",
       "\n",
       "                                               texto  Total  \n",
       "0  pasa hablado cierta catástrofe cósmica amenaza...     68  \n",
       "1  entiende perfecto gobernante perfecto lleno pe...    120  \n",
       "2  trata libertarnos simplemente enseñarnos descu...     35  \n",
       "3  nombres usan castellano restroom impropios bañ...     18  \n",
       "4  león enojoso cruel violento sino tratable just...     58  "
      ]
     },
     "execution_count": 8,
     "metadata": {},
     "output_type": "execute_result"
    }
   ],
   "source": [
    "df_train['Total']=df_train.texto.str.split().apply(len)\n",
    "\n",
    "df_train.head()"
   ]
  },
  {
   "cell_type": "markdown",
   "id": "5175d9d1",
   "metadata": {},
   "source": [
    "## Reducción del vocabulario"
   ]
  },
  {
   "cell_type": "markdown",
   "id": "affa583b",
   "metadata": {},
   "source": [
    "### Vocabulario del conjunto de entrenamiento"
   ]
  },
  {
   "cell_type": "code",
   "execution_count": 10,
   "id": "b59b7dc1",
   "metadata": {},
   "outputs": [
    {
     "name": "stdout",
     "output_type": "stream",
     "text": [
      "7210\n",
      "298\n"
     ]
    }
   ],
   "source": [
    "s=df_train.texto.str.cat(sep=' ').split()\n",
    "print(len(s))\n",
    "conteos=Counter(s)\n",
    "# print(conteos)\n",
    "nuevo_vocabulario = list(set([palabra for palabra in s if conteos[palabra] <= 10 and conteos[palabra]>3 ]))\n",
    "print(len(nuevo_vocabulario))"
   ]
  },
  {
   "cell_type": "code",
   "execution_count": 11,
   "id": "85889352",
   "metadata": {},
   "outputs": [
    {
     "data": {
      "text/html": [
       "<div>\n",
       "<style scoped>\n",
       "    .dataframe tbody tr th:only-of-type {\n",
       "        vertical-align: middle;\n",
       "    }\n",
       "\n",
       "    .dataframe tbody tr th {\n",
       "        vertical-align: top;\n",
       "    }\n",
       "\n",
       "    .dataframe thead th {\n",
       "        text-align: right;\n",
       "    }\n",
       "</style>\n",
       "<table border=\"1\" class=\"dataframe\">\n",
       "  <thead>\n",
       "    <tr style=\"text-align: right;\">\n",
       "      <th></th>\n",
       "      <th>titulo</th>\n",
       "      <th>tipo</th>\n",
       "      <th>autor</th>\n",
       "      <th>texto</th>\n",
       "      <th>Total</th>\n",
       "      <th>nuevo_texto</th>\n",
       "      <th>nuevo_total</th>\n",
       "      <th>Conteos</th>\n",
       "    </tr>\n",
       "  </thead>\n",
       "  <tbody>\n",
       "    <tr>\n",
       "      <th>0</th>\n",
       "      <td>catástrofes</td>\n",
       "      <td>minicuento</td>\n",
       "      <td>alfonso reyes</td>\n",
       "      <td>pasa hablado cierta catástrofe cósmica amenaza...</td>\n",
       "      <td>68</td>\n",
       "      <td>fondo pues corazón veces parte parte mejor vie...</td>\n",
       "      <td>9</td>\n",
       "      <td>{'fondo': 1, 'pues': 1, 'corazón': 1, 'veces':...</td>\n",
       "    </tr>\n",
       "    <tr>\n",
       "      <th>1</th>\n",
       "      <td>del perfecto gobernante</td>\n",
       "      <td>minicuento</td>\n",
       "      <td>alfonso reyes</td>\n",
       "      <td>entiende perfecto gobernante perfecto lleno pe...</td>\n",
       "      <td>120</td>\n",
       "      <td>gobernante dónde modo vivían pueblo año gobern...</td>\n",
       "      <td>29</td>\n",
       "      <td>{'gobernante': 4, 'dónde': 1, 'modo': 1, 'viví...</td>\n",
       "    </tr>\n",
       "    <tr>\n",
       "      <th>2</th>\n",
       "      <td>ley profunda</td>\n",
       "      <td>minicuento</td>\n",
       "      <td>alfonso reyes</td>\n",
       "      <td>trata libertarnos simplemente enseñarnos descu...</td>\n",
       "      <td>35</td>\n",
       "      <td>debe saber</td>\n",
       "      <td>2</td>\n",
       "      <td>{'debe': 1, 'saber': 1}</td>\n",
       "    </tr>\n",
       "    <tr>\n",
       "      <th>3</th>\n",
       "      <td>los alivios</td>\n",
       "      <td>minicuento</td>\n",
       "      <td>alfonso reyes</td>\n",
       "      <td>nombres usan castellano restroom impropios bañ...</td>\n",
       "      <td>18</td>\n",
       "      <td>vuelve</td>\n",
       "      <td>1</td>\n",
       "      <td>{'vuelve': 1}</td>\n",
       "    </tr>\n",
       "    <tr>\n",
       "      <th>4</th>\n",
       "      <td>el buen rey león</td>\n",
       "      <td>fábula</td>\n",
       "      <td>esopo</td>\n",
       "      <td>león enojoso cruel violento sino tratable just...</td>\n",
       "      <td>58</td>\n",
       "      <td>león sino buena bajo lobo dio paz liebre liebr...</td>\n",
       "      <td>12</td>\n",
       "      <td>{'león': 1, 'sino': 1, 'buena': 1, 'bajo': 1, ...</td>\n",
       "    </tr>\n",
       "  </tbody>\n",
       "</table>\n",
       "</div>"
      ],
      "text/plain": [
       "                    titulo        tipo          autor  \\\n",
       "0              catástrofes  minicuento  alfonso reyes   \n",
       "1  del perfecto gobernante  minicuento  alfonso reyes   \n",
       "2             ley profunda  minicuento  alfonso reyes   \n",
       "3              los alivios  minicuento  alfonso reyes   \n",
       "4         el buen rey león      fábula          esopo   \n",
       "\n",
       "                                               texto  Total  \\\n",
       "0  pasa hablado cierta catástrofe cósmica amenaza...     68   \n",
       "1  entiende perfecto gobernante perfecto lleno pe...    120   \n",
       "2  trata libertarnos simplemente enseñarnos descu...     35   \n",
       "3  nombres usan castellano restroom impropios bañ...     18   \n",
       "4  león enojoso cruel violento sino tratable just...     58   \n",
       "\n",
       "                                         nuevo_texto  nuevo_total  \\\n",
       "0  fondo pues corazón veces parte parte mejor vie...            9   \n",
       "1  gobernante dónde modo vivían pueblo año gobern...           29   \n",
       "2                                         debe saber            2   \n",
       "3                                             vuelve            1   \n",
       "4  león sino buena bajo lobo dio paz liebre liebr...           12   \n",
       "\n",
       "                                             Conteos  \n",
       "0  {'fondo': 1, 'pues': 1, 'corazón': 1, 'veces':...  \n",
       "1  {'gobernante': 4, 'dónde': 1, 'modo': 1, 'viví...  \n",
       "2                            {'debe': 1, 'saber': 1}  \n",
       "3                                      {'vuelve': 1}  \n",
       "4  {'león': 1, 'sino': 1, 'buena': 1, 'bajo': 1, ...  "
      ]
     },
     "execution_count": 11,
     "metadata": {},
     "output_type": "execute_result"
    }
   ],
   "source": [
    "df_train['nuevo_texto']=df_train.texto.str.split().\\\n",
    "    apply(lambda texto: [w for w in texto if w in nuevo_vocabulario]).\\\n",
    "    apply(lambda x : ' '.join(x))\n",
    "df_train['nuevo_total']=df_train.nuevo_texto.str.split().apply(len)\n",
    "df_train['Conteos']=df_train.nuevo_texto.str.split().apply(Counter)\n",
    "\n",
    "\n",
    "df_train.head()"
   ]
  },
  {
   "cell_type": "code",
   "execution_count": 12,
   "id": "8f9952f1",
   "metadata": {},
   "outputs": [
    {
     "name": "stdout",
     "output_type": "stream",
     "text": [
      "Counter({'catástrofe': 3, 'parte': 2, 'pasa': 1, 'hablado': 1, 'cierta': 1, 'cósmica': 1, 'amenaza': 1, 'fondo': 1, 'universo': 1, 'ancorajes': 1, 'fragmento': 1, 'pues': 1, 'sucede': 1, 'alguna': 1, 'distante': 1, 'ignorada': 1, 'repercute': 1, 'cofrecito': 1, 'vibratorio': 1, 'corazón': 1, 'muchas': 1, 'veces': 1, 'sabemos': 1, 'rara': 1, 'inquietud': 1, 'traviesa': 1, 'dolor': 1, 'inesperado': 1, 'malestar': 1, 'llega': 1, 'ser': 1, 'físico': 1, 'corpóreo': 1, 'mejor': 1, 'reventado': 1, 'cometa': 1, 'estallado': 1, 'nebulosa': 1, 'viento': 1, 'energías': 1, 'etéreas': 1, 'desatado': 1, 'varios': 1, 'millones': 1, 'añosluz': 1, 'ahora': 1, 'llegando': 1, 'casa': 1, 'nubes': 1, 'radiantes': 1, 'visitan': 1, 'puede': 1, 'extinguirse': 1, 'estrella': 1, 'paguemos': 1, 'aún': 1, 'merecerlo': 1, 'vivimos': 1, 'morimos': 1, 'asaetados': 1, 'oscuras': 1, 'flechas': 1, 'arqueros': 1, 'sombras': 1, 'sitiados': 1})\n",
      "Counter({'parte': 2, 'fondo': 1, 'pues': 1, 'corazón': 1, 'veces': 1, 'mejor': 1, 'viento': 1, 'aún': 1})\n",
      "Counter({'parte': 2, 'fondo': 1, 'pues': 1, 'corazón': 1, 'veces': 1, 'mejor': 1, 'viento': 1, 'aún': 1})\n"
     ]
    }
   ],
   "source": [
    "print(Counter(df_train.iloc[0].texto.split()))\n",
    "print(Counter(df_train.iloc[0].nuevo_texto.split()))\n",
    "print(df_train.iloc[0].Conteos)"
   ]
  },
  {
   "cell_type": "code",
   "execution_count": 13,
   "id": "655f8b74",
   "metadata": {},
   "outputs": [
    {
     "name": "stdout",
     "output_type": "stream",
     "text": [
      "pasa hablado cierta catástrofe cósmica amenaza fondo universo catástrofe ancorajes fragmento pues sucede alguna distante ignorada catástrofe repercute cofrecito vibratorio corazón muchas veces sabemos rara inquietud traviesa parte parte dolor inesperado malestar llega ser físico corpóreo mejor reventado cometa estallado nebulosa viento energías etéreas desatado varios millones añosluz ahora llegando casa nubes radiantes visitan puede extinguirse estrella paguemos aún merecerlo vivimos morimos asaetados oscuras flechas arqueros sombras sitiados\n",
      "fondo pues corazón veces parte parte mejor viento aún\n"
     ]
    }
   ],
   "source": [
    "print(df_train.iloc[0].texto)\n",
    "print(df_train.iloc[0].nuevo_texto)"
   ]
  },
  {
   "cell_type": "markdown",
   "id": "202139dd",
   "metadata": {},
   "source": [
    "#### Tamaño del vocabulario de entrenamiento"
   ]
  },
  {
   "cell_type": "code",
   "execution_count": 14,
   "id": "4a122f49",
   "metadata": {},
   "outputs": [
    {
     "name": "stdout",
     "output_type": "stream",
     "text": [
      "298\n"
     ]
    }
   ],
   "source": [
    "print(len(nuevo_vocabulario))"
   ]
  },
  {
   "cell_type": "markdown",
   "id": "7ff9f24f",
   "metadata": {},
   "source": [
    "### Vocabulario del conjunto de prueba"
   ]
  },
  {
   "cell_type": "code",
   "execution_count": 16,
   "id": "edc42124",
   "metadata": {},
   "outputs": [
    {
     "name": "stdout",
     "output_type": "stream",
     "text": [
      "2224\n",
      "89\n"
     ]
    }
   ],
   "source": [
    "s=df_test.texto.str.cat(sep=' ').split()\n",
    "print(len(s))\n",
    "conteos=Counter(s)\n",
    "# print(conteos)\n",
    "nuevo_vocab = list(set([palabra for palabra in s if conteos[palabra] <= 10 and conteos[palabra]>3 ]))\n",
    "print(len(nuevo_vocab))"
   ]
  },
  {
   "cell_type": "code",
   "execution_count": 17,
   "id": "5ccc9097",
   "metadata": {},
   "outputs": [
    {
     "data": {
      "text/html": [
       "<div>\n",
       "<style scoped>\n",
       "    .dataframe tbody tr th:only-of-type {\n",
       "        vertical-align: middle;\n",
       "    }\n",
       "\n",
       "    .dataframe tbody tr th {\n",
       "        vertical-align: top;\n",
       "    }\n",
       "\n",
       "    .dataframe thead th {\n",
       "        text-align: right;\n",
       "    }\n",
       "</style>\n",
       "<table border=\"1\" class=\"dataframe\">\n",
       "  <thead>\n",
       "    <tr style=\"text-align: right;\">\n",
       "      <th></th>\n",
       "      <th>titulo</th>\n",
       "      <th>texto</th>\n",
       "      <th>tokens</th>\n",
       "      <th>nuevo_texto</th>\n",
       "      <th>nuevo_total</th>\n",
       "      <th>Conteos</th>\n",
       "    </tr>\n",
       "  </thead>\n",
       "  <tbody>\n",
       "    <tr>\n",
       "      <th>0</th>\n",
       "      <td>divina fragilidad</td>\n",
       "      <td>dios creó universo sentía solo eternidad empez...</td>\n",
       "      <td>[dios, creó, universo, sentía, solo, eternidad...</td>\n",
       "      <td>dios sentía sentía cosa tan dios tal soledad h...</td>\n",
       "      <td>48</td>\n",
       "      <td>{'dios': 9, 'sentía': 2, 'cosa': 1, 'tan': 2, ...</td>\n",
       "    </tr>\n",
       "    <tr>\n",
       "      <th>1</th>\n",
       "      <td>dos seres iguales</td>\n",
       "      <td>cierto día profeta sharía encontró niña jardín...</td>\n",
       "      <td>[cierto, día, profeta, sharía, encontró, niña,...</td>\n",
       "      <td>cierto profeta sharía niña niña señor profeta ...</td>\n",
       "      <td>60</td>\n",
       "      <td>{'cierto': 1, 'profeta': 7, 'sharía': 4, 'niña...</td>\n",
       "    </tr>\n",
       "    <tr>\n",
       "      <th>2</th>\n",
       "      <td>el caballo y el lobo</td>\n",
       "      <td>estación blandos céfiros hacen verdear campos ...</td>\n",
       "      <td>[estación, blandos, céfiros, hacen, verdear, c...</td>\n",
       "      <td>vida cierto alegría así todas aquel señor aque...</td>\n",
       "      <td>11</td>\n",
       "      <td>{'vida': 1, 'cierto': 1, 'alegría': 1, 'así': ...</td>\n",
       "    </tr>\n",
       "    <tr>\n",
       "      <th>3</th>\n",
       "      <td>el cetro</td>\n",
       "      <td>dijo rey esposa señora verdaderamente reina de...</td>\n",
       "      <td>[dijo, rey, esposa, señora, verdaderamente, re...</td>\n",
       "      <td>reina ser señor palabras cetro reina cetro mom...</td>\n",
       "      <td>19</td>\n",
       "      <td>{'reina': 3, 'ser': 1, 'señor': 2, 'palabras':...</td>\n",
       "    </tr>\n",
       "    <tr>\n",
       "      <th>4</th>\n",
       "      <td>el impostor</td>\n",
       "      <td>cansada esperar hombre llegó puntual sonreírme...</td>\n",
       "      <td>[cansada, esperar, hombre, llegó, puntual, son...</td>\n",
       "      <td>esperar hombre primer voz jesús nunca jesús hi...</td>\n",
       "      <td>44</td>\n",
       "      <td>{'esperar': 1, 'hombre': 2, 'primer': 1, 'voz'...</td>\n",
       "    </tr>\n",
       "  </tbody>\n",
       "</table>\n",
       "</div>"
      ],
      "text/plain": [
       "                 titulo                                              texto  \\\n",
       "0     divina fragilidad  dios creó universo sentía solo eternidad empez...   \n",
       "1     dos seres iguales  cierto día profeta sharía encontró niña jardín...   \n",
       "2  el caballo y el lobo  estación blandos céfiros hacen verdear campos ...   \n",
       "3              el cetro  dijo rey esposa señora verdaderamente reina de...   \n",
       "4           el impostor  cansada esperar hombre llegó puntual sonreírme...   \n",
       "\n",
       "                                              tokens  \\\n",
       "0  [dios, creó, universo, sentía, solo, eternidad...   \n",
       "1  [cierto, día, profeta, sharía, encontró, niña,...   \n",
       "2  [estación, blandos, céfiros, hacen, verdear, c...   \n",
       "3  [dijo, rey, esposa, señora, verdaderamente, re...   \n",
       "4  [cansada, esperar, hombre, llegó, puntual, son...   \n",
       "\n",
       "                                         nuevo_texto  nuevo_total  \\\n",
       "0  dios sentía sentía cosa tan dios tal soledad h...           48   \n",
       "1  cierto profeta sharía niña niña señor profeta ...           60   \n",
       "2  vida cierto alegría así todas aquel señor aque...           11   \n",
       "3  reina ser señor palabras cetro reina cetro mom...           19   \n",
       "4  esperar hombre primer voz jesús nunca jesús hi...           44   \n",
       "\n",
       "                                             Conteos  \n",
       "0  {'dios': 9, 'sentía': 2, 'cosa': 1, 'tan': 2, ...  \n",
       "1  {'cierto': 1, 'profeta': 7, 'sharía': 4, 'niña...  \n",
       "2  {'vida': 1, 'cierto': 1, 'alegría': 1, 'así': ...  \n",
       "3  {'reina': 3, 'ser': 1, 'señor': 2, 'palabras':...  \n",
       "4  {'esperar': 1, 'hombre': 2, 'primer': 1, 'voz'...  "
      ]
     },
     "execution_count": 17,
     "metadata": {},
     "output_type": "execute_result"
    }
   ],
   "source": [
    "df_test['nuevo_texto']=df_test.texto.str.split().\\\n",
    "    apply(lambda texto: [w for w in texto if w in nuevo_vocab]).\\\n",
    "    apply(lambda x : ' '.join(x))\n",
    "df_test['nuevo_total']=df_test.nuevo_texto.str.split().apply(len)\n",
    "df_test['Conteos']=df_test.nuevo_texto.str.split().apply(Counter)\n",
    "\n",
    "\n",
    "df_test.head()"
   ]
  },
  {
   "cell_type": "markdown",
   "id": "df4f4b72",
   "metadata": {},
   "source": [
    "#### Tamaño del vocabulario de prueba"
   ]
  },
  {
   "cell_type": "code",
   "execution_count": 18,
   "id": "8fa6368f",
   "metadata": {},
   "outputs": [
    {
     "name": "stdout",
     "output_type": "stream",
     "text": [
      "89\n",
      "dios creó universo sentía solo eternidad empezó solo sentía solo necesitaba inventar cosa tan complicada universo dios contado incluso espectáculo magnífico nebulosas agujeros negros tal sentimiento soledad persistiese atormentarlo pensó pensó cabo pensar hizo mujer imagen semejanza después habiéndola hecho vio bueno tarde comprendió solo curaría definitivamente mal solo acostándose verificó aún mejor pasado algún tiempo posible saber previsión accidente biológico mente divina nació niño imagen semejanza dios niño creció convirtió joven hombre ahora bien dios pasó cabeza simple idea crear mujer dar joven sentimiento soledad afligido padre tardó repetirse hijo ahí entró diablo esperar primer impulso dios acabar ahí mismo incestuosa especie entró repente cansancio fastidio tener repetir creación hecho universo parecía tan magnífico dirá siendo dios podía hacer cuantos universos quisiese equivale desconocer naturaleza profunda dios lógicamente hecho mejor universos posibles podía hacer forzosamente ser menos bueno además dios ahora menos deseaba verse vez solo contentó expulsar deshonestas malagradecidas criaturas jurándose mismo perdería vista futuro perversa descendencia caso así empezó dios dos razones conservar especie humana castigarla merecía divina fragilidad hiciese compañía\n",
      "dios sentía sentía cosa tan dios tal soledad hizo mujer imagen hecho vio bueno aún tiempo saber imagen dios hombre ahora bien dios pasó cabeza mujer soledad esperar primer dios mismo hecho tan dios podía dios hecho podía ser menos bueno dios ahora menos vez mismo así dios\n"
     ]
    }
   ],
   "source": [
    "print(len(nuevo_vocab))\n",
    "print(df_test.iloc[0].texto)\n",
    "print(df_test.iloc[0].nuevo_texto)"
   ]
  },
  {
   "cell_type": "markdown",
   "id": "a9cc76a6",
   "metadata": {},
   "source": [
    "#### Tamaño del vocabulario conjunto (total de palabras)"
   ]
  },
  {
   "cell_type": "code",
   "execution_count": 19,
   "id": "b2d70900",
   "metadata": {},
   "outputs": [
    {
     "name": "stdout",
     "output_type": "stream",
     "text": [
      "387\n"
     ]
    }
   ],
   "source": [
    "vocabulario = nuevo_vocabulario+nuevo_vocab\n",
    "print(len(vocabulario))"
   ]
  },
  {
   "cell_type": "code",
   "execution_count": null,
   "id": "f0a3ad5f-f417-4795-b963-134d954bcb67",
   "metadata": {},
   "outputs": [],
   "source": []
  }
 ],
 "metadata": {
  "kernelspec": {
   "display_name": "Python 3 (ipykernel)",
   "language": "python",
   "name": "python3"
  },
  "language_info": {
   "codemirror_mode": {
    "name": "ipython",
    "version": 3
   },
   "file_extension": ".py",
   "mimetype": "text/x-python",
   "name": "python",
   "nbconvert_exporter": "python",
   "pygments_lexer": "ipython3",
   "version": "3.7.11"
  }
 },
 "nbformat": 4,
 "nbformat_minor": 5
}
