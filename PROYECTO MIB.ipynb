{
 "cells": [
  {
   "cell_type": "markdown",
   "id": "abd20345",
   "metadata": {},
   "source": [
    "<a href=\"https://colab.research.google.com/github/jhermosillo/Proyecto-IA/blob/main/PROYECTO%20MIB.ipynb\" target=\"_parent\"><img src=\"https://colab.research.google.com/assets/colab-badge.svg\" alt=\"Open In Colab\"/></a>"
   ]
  },
  {
   "cell_type": "markdown",
   "id": "9ef6cd2f-f0cc-4387-8f31-6c6dd8861055",
   "metadata": {
    "tags": []
   },
   "source": [
    "<h1 style=\"font-size:50px;\" align=\"center\">Inferencia Bayesiana usando el Motor de Inferencia MIB</h1>"
   ]
  },
  {
   "cell_type": "markdown",
   "id": "38b6f84d-9074-45d0-9312-04373d05222e",
   "metadata": {},
   "source": [
    "<h1 style=\"font-size:30px;\" align=\"center\">Quien escribió este cuento</h1>"
   ]
  },
  {
   "cell_type": "code",
   "execution_count": 15,
   "id": "823f3853-36f6-4a97-997d-3f81eea64b0c",
   "metadata": {},
   "outputs": [
    {
     "name": "stderr",
     "output_type": "stream",
     "text": [
      "[nltk_data] Downloading package punkt to\n",
      "[nltk_data]     C:\\Users\\user\\AppData\\Roaming\\nltk_data...\n",
      "[nltk_data]   Package punkt is already up-to-date!\n"
     ]
    }
   ],
   "source": [
    "import numpy as np\n",
    "import numpy.ma as ma\n",
    "import pandas as pd\n",
    "import glob\n",
    "import nltk\n",
    "\n",
    "nltk.download('punkt')\n",
    "from nltk.tokenize import word_tokenize\n",
    "\n",
    "import mib as mb\n",
    "import tpproc as tp"
   ]
  },
  {
   "cell_type": "code",
   "execution_count": null,
   "id": "1ce36f54",
   "metadata": {},
   "outputs": [],
   "source": [
    "# Cargar un archivo de excel a colab desde github\n",
    "!apt-get install subversion\n",
    "!svn checkout \"https://github.com/jhermosillo//Proyecto-IA/trunk/Train/\""
   ]
  },
  {
   "cell_type": "markdown",
   "id": "3ed8b06d-cd72-4bea-bc8b-7aa3f70c47e6",
   "metadata": {},
   "source": [
    "# Proyecto"
   ]
  },
  {
   "cell_type": "code",
   "execution_count": 3,
   "id": "81aba236-59d5-48d7-9679-83d1fcd1c1d0",
   "metadata": {},
   "outputs": [
    {
     "name": "stdout",
     "output_type": "stream",
     "text": [
      "leyendo...\n",
      "tamaño del contenido de archivos cargados:             1 KB\n"
     ]
    },
    {
     "name": "stderr",
     "output_type": "stream",
     "text": [
      "C:\\Users\\user\\Mi unidad\\Clases\\IA\\BAYESIAN PROGRAMMING\\Python_code\\tpproc.py:84: FutureWarning: The default value of regex will change from True to False in a future version. In addition, single character regular expressions will *not* be treated as literal strings when regex=True.\n",
      "  .str.replace('(','')\\\n",
      "C:\\Users\\user\\Mi unidad\\Clases\\IA\\BAYESIAN PROGRAMMING\\Python_code\\tpproc.py:85: FutureWarning: The default value of regex will change from True to False in a future version. In addition, single character regular expressions will *not* be treated as literal strings when regex=True.\n",
      "  .str.replace(')','')\\\n"
     ]
    },
    {
     "data": {
      "text/html": [
       "<div>\n",
       "<style scoped>\n",
       "    .dataframe tbody tr th:only-of-type {\n",
       "        vertical-align: middle;\n",
       "    }\n",
       "\n",
       "    .dataframe tbody tr th {\n",
       "        vertical-align: top;\n",
       "    }\n",
       "\n",
       "    .dataframe thead th {\n",
       "        text-align: right;\n",
       "    }\n",
       "</style>\n",
       "<table border=\"1\" class=\"dataframe\">\n",
       "  <thead>\n",
       "    <tr style=\"text-align: right;\">\n",
       "      <th></th>\n",
       "      <th>titulo</th>\n",
       "      <th>tipo</th>\n",
       "      <th>autor</th>\n",
       "      <th>texto</th>\n",
       "    </tr>\n",
       "  </thead>\n",
       "  <tbody>\n",
       "    <tr>\n",
       "      <th>0</th>\n",
       "      <td>catástrofes</td>\n",
       "      <td>minicuento</td>\n",
       "      <td>alfonso reyes</td>\n",
       "      <td>pasa hablado cierta catástrofe cósmica amenaza...</td>\n",
       "    </tr>\n",
       "    <tr>\n",
       "      <th>1</th>\n",
       "      <td>del perfecto gobernante</td>\n",
       "      <td>minicuento</td>\n",
       "      <td>alfonso reyes</td>\n",
       "      <td>entiende perfecto gobernante perfecto lleno pe...</td>\n",
       "    </tr>\n",
       "    <tr>\n",
       "      <th>2</th>\n",
       "      <td>ley profunda</td>\n",
       "      <td>minicuento</td>\n",
       "      <td>alfonso reyes</td>\n",
       "      <td>trata libertarnos simplemente enseñarnos descu...</td>\n",
       "    </tr>\n",
       "    <tr>\n",
       "      <th>3</th>\n",
       "      <td>los alivios</td>\n",
       "      <td>minicuento</td>\n",
       "      <td>alfonso reyes</td>\n",
       "      <td>nombres usan castellano restroom impropios bañ...</td>\n",
       "    </tr>\n",
       "    <tr>\n",
       "      <th>4</th>\n",
       "      <td>el buen rey león</td>\n",
       "      <td>fábula</td>\n",
       "      <td>esopo</td>\n",
       "      <td>león enojoso cruel violento sino tratable just...</td>\n",
       "    </tr>\n",
       "  </tbody>\n",
       "</table>\n",
       "</div>"
      ],
      "text/plain": [
       "                    titulo        tipo          autor  \\\n",
       "0              catástrofes  minicuento  alfonso reyes   \n",
       "1  del perfecto gobernante  minicuento  alfonso reyes   \n",
       "2             ley profunda  minicuento  alfonso reyes   \n",
       "3              los alivios  minicuento  alfonso reyes   \n",
       "4         el buen rey león      fábula          esopo   \n",
       "\n",
       "                                               texto  \n",
       "0  pasa hablado cierta catástrofe cósmica amenaza...  \n",
       "1  entiende perfecto gobernante perfecto lleno pe...  \n",
       "2  trata libertarnos simplemente enseñarnos descu...  \n",
       "3  nombres usan castellano restroom impropios bañ...  \n",
       "4  león enojoso cruel violento sino tratable just...  "
      ]
     },
     "execution_count": 3,
     "metadata": {},
     "output_type": "execute_result"
    }
   ],
   "source": [
    "archivos = glob.glob('Proyecto - IA/Train/*/*')\n",
    "archivos,nombres = tp.carga_cuentos(archivos)\n",
    "df_train = tp.lee_cuentos(archivos)\n",
    "df_train.head()"
   ]
  },
  {
   "cell_type": "code",
   "execution_count": 16,
   "id": "7e70f408-030d-4a6e-8744-cc4743fcf255",
   "metadata": {},
   "outputs": [
    {
     "name": "stdout",
     "output_type": "stream",
     "text": [
      "4763\n"
     ]
    }
   ],
   "source": [
    "with open(\"Proyecto - IA/voc_pry.txt\",encoding='utf-8') as f:\n",
    "    vocabulario = f.read()\n",
    "vocabulario=vocabulario.split()\n",
    "print(len(vocabulario))"
   ]
  },
  {
   "cell_type": "code",
   "execution_count": 17,
   "id": "049c4c72-f1c6-46da-9f69-602f475a8b48",
   "metadata": {},
   "outputs": [
    {
     "name": "stdout",
     "output_type": "stream",
     "text": [
      "['vencedor', 'metió', 'apelar', 'gratitud', 'empieza', 'cirujano', 'pellizcó', 'lienzo', 'chorizo', 'mismos']\n"
     ]
    }
   ],
   "source": [
    "print(vocabulario[:10])"
   ]
  },
  {
   "cell_type": "code",
   "execution_count": 18,
   "id": "6d75a0cd-905e-4800-b04b-8e0a793823ba",
   "metadata": {},
   "outputs": [
    {
     "name": "stdout",
     "output_type": "stream",
     "text": [
      "leyendo...\n",
      "tamaño del contenido de archivos cargados:             0 KB\n"
     ]
    },
    {
     "name": "stderr",
     "output_type": "stream",
     "text": [
      "C:\\Users\\user\\Mi unidad\\Clases\\IA\\BAYESIAN PROGRAMMING\\Python_code\\tpproc.py:84: FutureWarning: The default value of regex will change from True to False in a future version. In addition, single character regular expressions will *not* be treated as literal strings when regex=True.\n",
      "  .str.replace('(','')\\\n",
      "C:\\Users\\user\\Mi unidad\\Clases\\IA\\BAYESIAN PROGRAMMING\\Python_code\\tpproc.py:85: FutureWarning: The default value of regex will change from True to False in a future version. In addition, single character regular expressions will *not* be treated as literal strings when regex=True.\n",
      "  .str.replace(')','')\\\n"
     ]
    },
    {
     "data": {
      "text/html": [
       "<div>\n",
       "<style scoped>\n",
       "    .dataframe tbody tr th:only-of-type {\n",
       "        vertical-align: middle;\n",
       "    }\n",
       "\n",
       "    .dataframe tbody tr th {\n",
       "        vertical-align: top;\n",
       "    }\n",
       "\n",
       "    .dataframe thead th {\n",
       "        text-align: right;\n",
       "    }\n",
       "</style>\n",
       "<table border=\"1\" class=\"dataframe\">\n",
       "  <thead>\n",
       "    <tr style=\"text-align: right;\">\n",
       "      <th></th>\n",
       "      <th>titulo</th>\n",
       "      <th>texto</th>\n",
       "    </tr>\n",
       "  </thead>\n",
       "  <tbody>\n",
       "    <tr>\n",
       "      <th>0</th>\n",
       "      <td>divina fragilidad</td>\n",
       "      <td>dios creó universo sentía solo eternidad empez...</td>\n",
       "    </tr>\n",
       "    <tr>\n",
       "      <th>1</th>\n",
       "      <td>dos seres iguales</td>\n",
       "      <td>cierto día profeta sharía encontró niña jardín...</td>\n",
       "    </tr>\n",
       "    <tr>\n",
       "      <th>2</th>\n",
       "      <td>el caballo y el lobo</td>\n",
       "      <td>estación blandos céfiros hacen verdear campos ...</td>\n",
       "    </tr>\n",
       "    <tr>\n",
       "      <th>3</th>\n",
       "      <td>el cetro</td>\n",
       "      <td>dijo rey esposa señora verdaderamente reina de...</td>\n",
       "    </tr>\n",
       "    <tr>\n",
       "      <th>4</th>\n",
       "      <td>el impostor</td>\n",
       "      <td>cansada esperar hombre llegó puntual sonreírme...</td>\n",
       "    </tr>\n",
       "  </tbody>\n",
       "</table>\n",
       "</div>"
      ],
      "text/plain": [
       "                 titulo                                              texto\n",
       "0     divina fragilidad  dios creó universo sentía solo eternidad empez...\n",
       "1     dos seres iguales  cierto día profeta sharía encontró niña jardín...\n",
       "2  el caballo y el lobo  estación blandos céfiros hacen verdear campos ...\n",
       "3              el cetro  dijo rey esposa señora verdaderamente reina de...\n",
       "4           el impostor  cansada esperar hombre llegó puntual sonreírme..."
      ]
     },
     "execution_count": 18,
     "metadata": {},
     "output_type": "execute_result"
    }
   ],
   "source": [
    "archivos = glob.glob('Proyecto - IA/Test/*')\n",
    "archivos,nombres = tp.carga_cuentos(archivos)\n",
    "df_test = tp.lee_cuentos(archivos,test=True)\n",
    "df_test.head()"
   ]
  },
  {
   "cell_type": "code",
   "execution_count": 19,
   "id": "6f26dd98-db4c-4889-b06c-5b4c54de74b2",
   "metadata": {},
   "outputs": [
    {
     "data": {
      "text/html": [
       "<div>\n",
       "<style scoped>\n",
       "    .dataframe tbody tr th:only-of-type {\n",
       "        vertical-align: middle;\n",
       "    }\n",
       "\n",
       "    .dataframe tbody tr th {\n",
       "        vertical-align: top;\n",
       "    }\n",
       "\n",
       "    .dataframe thead th {\n",
       "        text-align: right;\n",
       "    }\n",
       "</style>\n",
       "<table border=\"1\" class=\"dataframe\">\n",
       "  <thead>\n",
       "    <tr style=\"text-align: right;\">\n",
       "      <th></th>\n",
       "      <th>titulo</th>\n",
       "      <th>texto</th>\n",
       "      <th>tokens</th>\n",
       "    </tr>\n",
       "  </thead>\n",
       "  <tbody>\n",
       "    <tr>\n",
       "      <th>0</th>\n",
       "      <td>divina fragilidad</td>\n",
       "      <td>dios creó universo sentía solo eternidad empez...</td>\n",
       "      <td>[dios, creó, universo, sentía, solo, eternidad...</td>\n",
       "    </tr>\n",
       "    <tr>\n",
       "      <th>1</th>\n",
       "      <td>dos seres iguales</td>\n",
       "      <td>cierto día profeta sharía encontró niña jardín...</td>\n",
       "      <td>[cierto, día, profeta, sharía, encontró, niña,...</td>\n",
       "    </tr>\n",
       "    <tr>\n",
       "      <th>2</th>\n",
       "      <td>el caballo y el lobo</td>\n",
       "      <td>estación blandos céfiros hacen verdear campos ...</td>\n",
       "      <td>[estación, blandos, céfiros, hacen, verdear, c...</td>\n",
       "    </tr>\n",
       "    <tr>\n",
       "      <th>3</th>\n",
       "      <td>el cetro</td>\n",
       "      <td>dijo rey esposa señora verdaderamente reina de...</td>\n",
       "      <td>[dijo, rey, esposa, señora, verdaderamente, re...</td>\n",
       "    </tr>\n",
       "    <tr>\n",
       "      <th>4</th>\n",
       "      <td>el impostor</td>\n",
       "      <td>cansada esperar hombre llegó puntual sonreírme...</td>\n",
       "      <td>[cansada, esperar, hombre, llegó, puntual, son...</td>\n",
       "    </tr>\n",
       "  </tbody>\n",
       "</table>\n",
       "</div>"
      ],
      "text/plain": [
       "                 titulo                                              texto  \\\n",
       "0     divina fragilidad  dios creó universo sentía solo eternidad empez...   \n",
       "1     dos seres iguales  cierto día profeta sharía encontró niña jardín...   \n",
       "2  el caballo y el lobo  estación blandos céfiros hacen verdear campos ...   \n",
       "3              el cetro  dijo rey esposa señora verdaderamente reina de...   \n",
       "4           el impostor  cansada esperar hombre llegó puntual sonreírme...   \n",
       "\n",
       "                                              tokens  \n",
       "0  [dios, creó, universo, sentía, solo, eternidad...  \n",
       "1  [cierto, día, profeta, sharía, encontró, niña,...  \n",
       "2  [estación, blandos, céfiros, hacen, verdear, c...  \n",
       "3  [dijo, rey, esposa, señora, verdaderamente, re...  \n",
       "4  [cansada, esperar, hombre, llegó, puntual, son...  "
      ]
     },
     "execution_count": 19,
     "metadata": {},
     "output_type": "execute_result"
    }
   ],
   "source": [
    "df_test['tokens'] = df_test.apply(lambda row: nltk.word_tokenize(row['texto']), axis=1)\n",
    "df_test.head()"
   ]
  },
  {
   "cell_type": "code",
   "execution_count": 20,
   "id": "96223ab4-36aa-462a-ae38-a8ed2ebd968c",
   "metadata": {},
   "outputs": [
    {
     "name": "stdout",
     "output_type": "stream",
     "text": [
      "['dios', 'creó']\n",
      "['cierto', 'día']\n",
      "['estación', 'blandos']\n",
      "['dijo', 'rey']\n",
      "['cansada', 'esperar']\n",
      "['yendo', 'león']\n",
      "['ranas', 'decidieron']\n",
      "['cierto', 'día']\n",
      "['noche', 'cerrada']\n",
      "['ibas', 'contar']\n",
      "['veces', 'vuelven']\n",
      "['muerte', 'cansada']\n",
      "['camión', 'detuvo']\n",
      "['cierto', 'día']\n",
      "['tres', 'punto']\n",
      "['narciso', 'hoy']\n",
      "['cierto', 'día']\n",
      "['pesar', 'torpor']\n",
      "['mary', 'dos']\n"
     ]
    }
   ],
   "source": [
    "C=df_test.tokens.values\n",
    "for c in C:\n",
    "    print(c[:2])"
   ]
  },
  {
   "cell_type": "markdown",
   "id": "c1bfe472-5379-4426-b13b-fd67f3bb4bc0",
   "metadata": {},
   "source": [
    "## Preguntas"
   ]
  },
  {
   "cell_type": "markdown",
   "id": "a1788b36-8748-4455-ae05-e5c8310a3072",
   "metadata": {},
   "source": [
    "1. ¿Quién escribió \"El caballo y el Lobo\"?\n",
    "2. \"La escopeta\" ¿es una fábula?\n",
    "3. ¿Qué probabilidad hay de que \"La muerte\" haya sido escrita por José Saramago\n",
    "4. ¿Pudo \"La marcha del caracol\" haber sido escrita por García Márquez y Fuentes en co-autoría?\n",
    "5. Dado que \"El águila de ala cortada y la zorra\" es una fábula, ¿qué probabilidad hay de que haya sido escrita por Jalil Gibrán?\n",
    "6. ¿Qué proporción hay de minicuentos?\n",
    "7. ¿Qué cuentos son de Carlos Onetti?\n",
    "8. ¿Quién dijo: \"Desde que abrí los ojos me di cuenta que mi sitio no estaba aquí, donde yo estoy, sino en donde no estoy ni he estado nunca. En alguna parte hay un lugar vacío y ese vacío se llenará de mí y yo me asentaré en ese hueco que insensiblemente rebosará de mí, pleno de mí hasta volverse fuente o surtidor. Y mi vacío, el vacío de mí que soy ahora, se llenará de sí, pleno de sí, pleno de ser hasta los bordes.\"?\n",
    "9. ¿Quién es el autor con más cuentos?\n",
    "10. ¿Qué probablidad hay de quien haya escrito \"Retiniblastoma\" haya también escrito \"El sol y las ranas\"?"
   ]
  },
  {
   "cell_type": "code",
   "execution_count": null,
   "id": "84f110c4-c536-4cf5-836a-7d9f7198790b",
   "metadata": {},
   "outputs": [],
   "source": []
  }
 ],
 "metadata": {
  "kernelspec": {
   "display_name": "Python 3 (ipykernel)",
   "language": "python",
   "name": "python3"
  },
  "language_info": {
   "codemirror_mode": {
    "name": "ipython",
    "version": 3
   },
   "file_extension": ".py",
   "mimetype": "text/x-python",
   "name": "python",
   "nbconvert_exporter": "python",
   "pygments_lexer": "ipython3",
   "version": "3.7.11"
  }
 },
 "nbformat": 4,
 "nbformat_minor": 5
}
